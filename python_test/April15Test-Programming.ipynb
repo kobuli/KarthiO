{
 "cells": [
  {
   "cell_type": "code",
   "execution_count": 153,
   "id": "aea8aaef",
   "metadata": {},
   "outputs": [],
   "source": [
    "import os\n",
    "import numpy as np"
   ]
  },
  {
   "cell_type": "code",
   "execution_count": 154,
   "id": "7542170a",
   "metadata": {},
   "outputs": [
    {
     "name": "stdout",
     "output_type": "stream",
     "text": [
      "input list  [0, 1, 2, 3, 4, 5, 6, 7, 8, 9]\n",
      "Given numbers are unique\n"
     ]
    }
   ],
   "source": [
    "##Question 1\n",
    "\n",
    "list_1=list(range(10))\n",
    "#list_1 = [1,1,2,3,4,5]\n",
    "#set does not allow duplicates\n",
    "print('input list ', list_1)\n",
    "set_1  = set(list_1)\n",
    "if(len(set_1)==len(list_1)):\n",
    "   print('Given numbers are unique')\n",
    "else:\n",
    "   print('Given numbers are not unique')"
   ]
  },
  {
   "cell_type": "code",
   "execution_count": 155,
   "id": "b3e09a85",
   "metadata": {},
   "outputs": [],
   "source": [
    "def duplicateCheck(lst):\n",
    "    lst1=[]\n",
    "    cnt=-1\n",
    "    for i in lst:\n",
    "        if i not in lst1:\n",
    "            cnt=cnt+1\n",
    "            lst1.append(cnt)\n",
    "    return lst1"
   ]
  },
  {
   "cell_type": "code",
   "execution_count": 156,
   "id": "42b72012",
   "metadata": {},
   "outputs": [
    {
     "name": "stdout",
     "output_type": "stream",
     "text": [
      "input list  [0, 1, 2, 3, 4, 5, 6, 7, 8, 9]\n",
      "filtered list [0, 1, 2, 3, 4, 5, 6, 7, 8, 9]\n",
      "given numbers are unique\n"
     ]
    }
   ],
   "source": [
    "##Question 1\n",
    "list_2 = list(range(10))\n",
    "print('input list ', list_2)\n",
    "list_3 = duplicateCheck(list_2)\n",
    "print('filtered list' , list_3)\n",
    "if (len(list_2)==len(list_3)):\n",
    "    print('given numbers are unique')"
   ]
  },
  {
   "cell_type": "code",
   "execution_count": 157,
   "id": "215e6bab",
   "metadata": {},
   "outputs": [],
   "source": [
    "#Question 2\n",
    "\n",
    "def findAvg(lst):\n",
    "    sum=0\n",
    "    cnt=0\n",
    "    for i in lst:\n",
    "        sum=sum+i\n",
    "        cnt+=1\n",
    "    print('total value is ',sum)\n",
    "    print('total count is ', cnt)\n",
    "    return sum/cnt\n"
   ]
  },
  {
   "cell_type": "code",
   "execution_count": 158,
   "id": "10453cbc",
   "metadata": {},
   "outputs": [
    {
     "name": "stdout",
     "output_type": "stream",
     "text": [
      "total value is  49\n",
      "total count is  7\n",
      "Average is  7.0\n"
     ]
    }
   ],
   "source": [
    "list_int = [1,3,5,7,9,11,13]\n",
    "print('Average is ', findAvg(list_int))"
   ]
  },
  {
   "cell_type": "code",
   "execution_count": 159,
   "id": "f30fb41c",
   "metadata": {},
   "outputs": [],
   "source": [
    "#Question 3\n",
    "def condtCheck(num):\n",
    "    if(num%5==0 and num%7==0):\n",
    "        print('GIven interger is multiple of 5 and 7')\n",
    "        return True\n",
    "    else:\n",
    "        print('GIven interger is not multiple of 5 and 7')\n",
    "        return False\n",
    "    "
   ]
  },
  {
   "cell_type": "code",
   "execution_count": 160,
   "id": "779bd0b8",
   "metadata": {},
   "outputs": [
    {
     "name": "stdout",
     "output_type": "stream",
     "text": [
      "Enter the integer: 100\n",
      "GIven interger is not multiple of 5 and 7\n"
     ]
    },
    {
     "data": {
      "text/plain": [
       "False"
      ]
     },
     "execution_count": 160,
     "metadata": {},
     "output_type": "execute_result"
    }
   ],
   "source": [
    "num=input('Enter the integer: ')\n",
    "condtCheck(int(num))"
   ]
  },
  {
   "cell_type": "code",
   "execution_count": 161,
   "id": "41ea2a74",
   "metadata": {},
   "outputs": [
    {
     "name": "stdout",
     "output_type": "stream",
     "text": [
      "Reversed Number:  258\n"
     ]
    }
   ],
   "source": [
    "#Question 4\n",
    "num = 852\n",
    "rv_num = 0\n",
    "\n",
    "while num != 0:\n",
    "    temp = num % 10\n",
    "    rv_num = rv_num * 10 + temp\n",
    "    num //= 10\n",
    "\n",
    "print(\"Reversed Number: \", rv_num)"
   ]
  },
  {
   "cell_type": "code",
   "execution_count": 162,
   "id": "a9a945b1",
   "metadata": {},
   "outputs": [],
   "source": [
    "#Question 5"
   ]
  },
  {
   "cell_type": "code",
   "execution_count": 218,
   "id": "7b3cae72",
   "metadata": {},
   "outputs": [],
   "source": [
    "def outer_func(a,b):\n",
    "    def inner_func():\n",
    "        c = a+b\n",
    "        print(\"from inner func \", c)\n",
    "    return inner_func()"
   ]
  },
  {
   "cell_type": "code",
   "execution_count": 222,
   "id": "4eeb5582",
   "metadata": {},
   "outputs": [
    {
     "name": "stdout",
     "output_type": "stream",
     "text": [
      "from inner func  40\n"
     ]
    }
   ],
   "source": [
    "x = outer_func(10, 30)"
   ]
  },
  {
   "cell_type": "code",
   "execution_count": 165,
   "id": "be702e21",
   "metadata": {},
   "outputs": [],
   "source": [
    "#Question 6"
   ]
  },
  {
   "cell_type": "code",
   "execution_count": 166,
   "id": "ae77455c",
   "metadata": {},
   "outputs": [
    {
     "name": "stdout",
     "output_type": "stream",
     "text": [
      "given year is not a leap year\n"
     ]
    }
   ],
   "source": [
    "yr = 2022\n",
    "if (yr % 100 == 0 and yr % 400 == 0):\n",
    "    print('given century year is leap year')\n",
    "elif(yr % 100 != 0 and yr % 4 == 0):\n",
    "     print('given non-centiryyear is leap year')\n",
    "else:\n",
    "    print('given year is not a leap year')\n",
    "    "
   ]
  },
  {
   "cell_type": "code",
   "execution_count": null,
   "id": "0a8d9fa1",
   "metadata": {},
   "outputs": [],
   "source": []
  }
 ],
 "metadata": {
  "kernelspec": {
   "display_name": "Python 3 (ipykernel)",
   "language": "python",
   "name": "python3"
  },
  "language_info": {
   "codemirror_mode": {
    "name": "ipython",
    "version": 3
   },
   "file_extension": ".py",
   "mimetype": "text/x-python",
   "name": "python",
   "nbconvert_exporter": "python",
   "pygments_lexer": "ipython3",
   "version": "3.9.7"
  }
 },
 "nbformat": 4,
 "nbformat_minor": 5
}
