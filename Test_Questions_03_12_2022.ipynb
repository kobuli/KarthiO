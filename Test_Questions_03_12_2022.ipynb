{
 "cells": [
  {
   "cell_type": "code",
   "execution_count": 137,
   "id": "4a1a12a7",
   "metadata": {},
   "outputs": [],
   "source": [
    "import os\n",
    "import numpy as np\n",
    "import pandas as pd\n",
    "from datetime import date"
   ]
  },
  {
   "cell_type": "code",
   "execution_count": 138,
   "id": "652febc2",
   "metadata": {},
   "outputs": [],
   "source": [
    "def function_calc(age, total):\n",
    "    r = (date.today().year + (total-age))\n",
    "    return r"
   ]
  },
  {
   "cell_type": "code",
   "execution_count": 139,
   "id": "c72c3dc9",
   "metadata": {},
   "outputs": [
    {
     "ename": "TypeError",
     "evalue": "'tuple' object is not callable",
     "output_type": "error",
     "traceback": [
      "\u001b[1;31m---------------------------------------------------------------------------\u001b[0m",
      "\u001b[1;31mTypeError\u001b[0m                                 Traceback (most recent call last)",
      "\u001b[1;32m~\\AppData\\Local\\Temp/ipykernel_13296/3766628106.py\u001b[0m in \u001b[0;36m<module>\u001b[1;34m\u001b[0m\n\u001b[1;32m----> 1\u001b[1;33m \u001b[0mname\u001b[0m\u001b[1;33m=\u001b[0m\u001b[0minput\u001b[0m\u001b[1;33m(\u001b[0m\u001b[1;34m\"enter your name\"\u001b[0m\u001b[1;33m)\u001b[0m\u001b[1;33m\u001b[0m\u001b[1;33m\u001b[0m\u001b[0m\n\u001b[0m\u001b[0;32m      2\u001b[0m \u001b[0mprint\u001b[0m\u001b[1;33m(\u001b[0m\u001b[0mname\u001b[0m\u001b[1;33m)\u001b[0m\u001b[1;33m\u001b[0m\u001b[1;33m\u001b[0m\u001b[0m\n\u001b[0;32m      3\u001b[0m \u001b[0mage\u001b[0m\u001b[1;33m=\u001b[0m\u001b[0minput\u001b[0m\u001b[1;33m(\u001b[0m\u001b[1;34m'enter your age'\u001b[0m\u001b[1;33m)\u001b[0m\u001b[1;33m\u001b[0m\u001b[1;33m\u001b[0m\u001b[0m\n\u001b[0;32m      4\u001b[0m \u001b[0mprint\u001b[0m\u001b[1;33m(\u001b[0m\u001b[0mage\u001b[0m\u001b[1;33m)\u001b[0m\u001b[1;33m\u001b[0m\u001b[1;33m\u001b[0m\u001b[0m\n\u001b[0;32m      5\u001b[0m \u001b[0mprint\u001b[0m\u001b[1;33m(\u001b[0m\u001b[0mfunction_calc\u001b[0m\u001b[1;33m(\u001b[0m\u001b[0mint\u001b[0m\u001b[1;33m(\u001b[0m\u001b[0mage\u001b[0m\u001b[1;33m)\u001b[0m\u001b[1;33m,\u001b[0m \u001b[1;36m100\u001b[0m\u001b[1;33m)\u001b[0m\u001b[1;33m)\u001b[0m\u001b[1;33m\u001b[0m\u001b[1;33m\u001b[0m\u001b[0m\n",
      "\u001b[1;31mTypeError\u001b[0m: 'tuple' object is not callable"
     ]
    }
   ],
   "source": [
    "name=input(\"enter your name\")\n",
    "print(name)\n",
    "age=input('enter your age')\n",
    "print(age)\n",
    "print(function_calc(int(age), 100))"
   ]
  },
  {
   "cell_type": "code",
   "execution_count": null,
   "id": "0fb4c898",
   "metadata": {},
   "outputs": [],
   "source": [
    "date.today().year + 60"
   ]
  },
  {
   "cell_type": "code",
   "execution_count": null,
   "id": "286ab632",
   "metadata": {},
   "outputs": [],
   "source": [
    "#Pandas group by is aggregate based on some stats like specific column in a data frame\n",
    "dict = {'Age': [25,26,25,23,30,29,23], \n",
    "         'Name': ['Tom','James','Ricky','Vin','Steve','Smith','Jack'], \n",
    "         'Rating': [4.23, 3.24, 3.98, 2.56, 3.20, 4.60,3.80]}\n",
    "df = pd.DataFrame(dict)\n",
    "df"
   ]
  },
  {
   "cell_type": "code",
   "execution_count": null,
   "id": "0dd59b72",
   "metadata": {},
   "outputs": [],
   "source": [
    "df.groupby(['Age'])['Rating'].sum()"
   ]
  },
  {
   "cell_type": "code",
   "execution_count": null,
   "id": "8bd73b1d",
   "metadata": {},
   "outputs": [],
   "source": [
    "df = pd.DataFrame(range(5));\n",
    "df"
   ]
  },
  {
   "cell_type": "code",
   "execution_count": null,
   "id": "aa93633e",
   "metadata": {},
   "outputs": [],
   "source": [
    "#Ways to combine the dataframe in Pandas\n",
    "#append\n",
    "#concat\n",
    "#merge\n",
    "\n",
    "dict1 = { 'Name': ['Amy','Jake','Matt','Mike','Zach'], \n",
    "        'Age': [40,20,30,45,56]}\n",
    "df_left = pd.DataFrame(dict1)"
   ]
  },
  {
   "cell_type": "code",
   "execution_count": null,
   "id": "bcce9c9f",
   "metadata": {},
   "outputs": [],
   "source": [
    "df_left"
   ]
  },
  {
   "cell_type": "code",
   "execution_count": null,
   "id": "1a8a78d6",
   "metadata": {},
   "outputs": [],
   "source": [
    "\n",
    "dict2 = { 'Name': ['Louis','Mary','Nancy','Nuke','Nancy'], \n",
    "        'Age': [43,20,30,44,68]}\n",
    "df_right = pd.DataFrame(dict2)\n",
    "df_right"
   ]
  },
  {
   "cell_type": "code",
   "execution_count": null,
   "id": "e05f8b68",
   "metadata": {},
   "outputs": [],
   "source": [
    "df_left.append(df_right)"
   ]
  },
  {
   "cell_type": "code",
   "execution_count": null,
   "id": "47cc60de",
   "metadata": {},
   "outputs": [],
   "source": [
    "pd.concat([df_left, df_right])"
   ]
  },
  {
   "cell_type": "code",
   "execution_count": null,
   "id": "9a82c55b",
   "metadata": {},
   "outputs": [],
   "source": [
    "pd.merge(df_left, df_right, on='Age')"
   ]
  },
  {
   "cell_type": "code",
   "execution_count": null,
   "id": "462eaba5",
   "metadata": {},
   "outputs": [],
   "source": [
    "pd.merge(df_left, df_right, on='Age', how='left')"
   ]
  },
  {
   "cell_type": "code",
   "execution_count": null,
   "id": "d3dd2d6e",
   "metadata": {},
   "outputs": [],
   "source": [
    "pd.merge(df_left, df_right, on='Age', how='right')"
   ]
  },
  {
   "cell_type": "code",
   "execution_count": null,
   "id": "824ed452",
   "metadata": {},
   "outputs": [],
   "source": [
    "## a value in a list can be changed by assigning some different value\n",
    "## value can't be changed in Tuple by assigning a value, basically its immmutable object"
   ]
  },
  {
   "cell_type": "code",
   "execution_count": null,
   "id": "0a60aadc",
   "metadata": {},
   "outputs": [],
   "source": [
    "array = np.array([1,5,3,100,4,48])\n",
    "print(np.mean(array))\n",
    "print(np.std(array))\n",
    "print(np.median(array))"
   ]
  },
  {
   "cell_type": "markdown",
   "id": "dfd22324",
   "metadata": {},
   "source": [
    "### remove duplicate from list"
   ]
  },
  {
   "cell_type": "code",
   "execution_count": null,
   "id": "f1efc511",
   "metadata": {},
   "outputs": [],
   "source": [
    "#converting list to set to avoid duplicates\n",
    "mylist=[0,1,1,1,2,3,4,4,5,6,7,7]\n",
    "mylist = list(set(mylist))\n",
    "mylist"
   ]
  },
  {
   "cell_type": "code",
   "execution_count": null,
   "id": "0d5a4869",
   "metadata": {},
   "outputs": [],
   "source": [
    "#map function returns map object of the result, after applying the given fuction in each iteam of iterable collection\n",
    "\n",
    "def sqrt(num):\n",
    "    return num*num;\n",
    "\n",
    "input= 1,2,3,4\n",
    "resultMap = map(sqrt, input)\n",
    "print(list(resultMap))"
   ]
  },
  {
   "cell_type": "code",
   "execution_count": null,
   "id": "15bc195e",
   "metadata": {},
   "outputs": [],
   "source": [
    "#Pass statement does nothing, I would say its kind of place holder to have some logic to be added later but code to continue to execute\n"
   ]
  },
  {
   "cell_type": "code",
   "execution_count": 140,
   "id": "6a162756",
   "metadata": {},
   "outputs": [
    {
     "data": {
      "text/plain": [
       "array([[1, 2, 3],\n",
       "       [3, 4, 5],\n",
       "       [4, 6, 7],\n",
       "       [2, 4, 5]])"
      ]
     },
     "execution_count": 140,
     "metadata": {},
     "output_type": "execute_result"
    }
   ],
   "source": [
    "#vstack in numpy\n",
    "#stacking up the arrays in vertical manner like row by row for each array\n",
    "\n",
    "a=np.array([[1,2,3],[3,4,5]])\n",
    "b=np.array([[4,6,7],[2,4,5]])\n",
    "np.vstack((a,b))"
   ]
  },
  {
   "cell_type": "code",
   "execution_count": null,
   "id": "2aaba594",
   "metadata": {},
   "outputs": [],
   "source": []
  }
 ],
 "metadata": {
  "kernelspec": {
   "display_name": "Python 3 (ipykernel)",
   "language": "python",
   "name": "python3"
  },
  "language_info": {
   "codemirror_mode": {
    "name": "ipython",
    "version": 3
   },
   "file_extension": ".py",
   "mimetype": "text/x-python",
   "name": "python",
   "nbconvert_exporter": "python",
   "pygments_lexer": "ipython3",
   "version": "3.9.7"
  }
 },
 "nbformat": 4,
 "nbformat_minor": 5
}
